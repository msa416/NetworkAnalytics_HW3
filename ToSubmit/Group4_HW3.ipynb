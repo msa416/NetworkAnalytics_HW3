{
 "cells": [
  {
   "cell_type": "markdown",
   "metadata": {
    "button": false,
    "deletable": true,
    "new_sheet": false,
    "run_control": {
     "read_only": false
    }
   },
   "source": [
    "# Miram Atie | Akos Furton | Zhi Xuan Pek | Dewati Perdani | Deniz Reckermann | Li Qi\n",
    "### Group HW 3\n",
    "### 20 December 2016"
   ]
  },
  {
   "cell_type": "markdown",
   "metadata": {
    "button": false,
    "deletable": true,
    "new_sheet": false,
    "run_control": {
     "read_only": false
    }
   },
   "source": [
    "## Q2. Bass Model\n",
    "\n",
    "The Bass model is the following equation\n",
    "\n",
    "$$\n",
    "F_t = (p + q[\\frac{C_{t-1}}{m}])(m - c_{t-1})\n",
    "$$\n",
    "\n",
    "Where $m$ is the estimated size of the market, $p$ is the likelihood of people who would adopt the product assuming no influence from others, while $q$ is the likelihood of adopting the product from being influenced by someone else in their network who has adopted the product.\n",
    "\n",
    "Our aim is to estimate the unknown parameters $m$, $p$, and $q$. To do this, given a data set, we attempt to find a solution set $(m,p,q)$ such that the squared difference between the forecast $F_t$ and the actual adoptees $S_t$ at all time periods $t$ is minimised.\n",
    "\n",
    "In the context of the DOCTOR data set, $C_t$ is the cumulative revenue earned at time $t$ while $S_t$ is the revenue earned at time $t$ and $F_t$ is the forecasted accumulated revenue. There are 12 time periods in this data set. Since revenue is simply a multiple of the number of \"adoptees\" (assuming number of people who watch the movie more than once are negligible), we can use the revenue as the \"number of adoptees\".\n",
    "\n",
    "Finally, we estimate the parameters with an optimisation problem to minimise squared errors as follows.\n",
    "\n",
    "$$\n",
    "\\begin{aligned}\n",
    "min & \\sum_{i=1}^{12} (F_t - S_t)^2\\\\\n",
    "s.t \\text{ }& F_t = (p + q[\\frac{C_{t-1}}{m}])(m - c_{t-1}) & t = 2,...,12 \\\\\n",
    "& F_1 = m p\n",
    "\\end{aligned}\n",
    "$$\n",
    "\n",
    "Note that since this problem is not convex, out solution is not guaranteed to be a global minimum.\n",
    "\n",
    "### Rolling-Horizon estimate\n",
    "\n",
    "To obtain a rolling-horizon estimate, we use a subset of the data to estimate the parameters and forecast the revenue of the next time period. Running the model in AMPL using the different subsets (up to time $t$), we get the following estimates of the parameters and the forecast of the next period.\n",
    "\n",
    "\\begin{array}{c|ccc}\n",
    "t & m & p & q & F_{t+1} \\\\\n",
    "\\hline\n",
    "4 & 15.2956 & 0.0942142 & 1.66781 & 5.565598 \\\\\n",
    "5 & 20.1184 & 0.07872 & 1.30893 & 0 & \\\\\n",
    "6 & 25.8154 & 0.0737613 & 0.927715 & 0 \\\\\n",
    "7 & 28.7628 & 0.0724826 & 0.773655 & 0 \\\\\n",
    "8 & 30.8454 & 0.0722345 & 0.673796 & 0 \\\\\n",
    "9 & 32.4913 & 0.0724768 & 0.597851 & 0 \\\\\n",
    "10& 33.6167 & 0.0728771 & 0.546953 & 0 \\\\\n",
    "11& 34.3128 & 0.0732449 & 0.515545 & 0 \\\\\n",
    "12& 34.85 & 0.0735885 & 0.491362 & 0\n",
    "\\end{array}\n",
    "\n",
    "As we can see from the results above, the rolling-horizon estimate does not do a good job of forecasting the next period's revenue. The solution will set $m$, the market size, to be the market size at time $t-1$, $C_{t-1}$ (accumulated revenue). As such, the market is saturated and has no more room to grow for the next period. Therefore, in order to obtain accurate estimates with the rolling horizon method, we would need $m$ to be known beforehand through other methods such as surveys and market expertise.\n",
    "\n",
    "One pattern that we notice is that as $t$ increases, the parameters $m$, $p$ and $q$ seem to converge to different points. With added data, we might see these values eventually converge to a proper estimate of the true parameters.\n",
    "\n",
    "### Final Estimate\n",
    "\n",
    "Using all the data, we obtain the final estimate of the parameters,\n",
    "\n",
    "\\begin{array}{ccc}\n",
    "m & p & q\\\\ \\hline\n",
    "34.85 & 0.0735885 & 0.491362\n",
    "\\end{array}\n",
    "\n",
    "This is exactly the same as the estimate obtained in the article.\n",
    "\n",
    "Finall, the estimate of the revenue over time is shown in the graph below."
   ]
  },
  {
   "cell_type": "code",
   "execution_count": 2,
   "metadata": {
    "button": false,
    "collapsed": false,
    "deletable": true,
    "new_sheet": false,
    "run_control": {
     "read_only": false
    }
   },
   "outputs": [
    {
     "data": {
      "image/png": "[encoded data removed]",
      "text/plain": [
       "<IPython.core.display.Image object>"
      ]
     },
     "execution_count": 2,
     "metadata": {},
     "output_type": "execute_result"
    }
   ],
   "source": [
    "from IPython.display import Image\n",
    "Image(filename=\"q2plot.png\")"
   ]
  },
  {
   "cell_type": "markdown",
   "metadata": {
    "button": false,
    "deletable": true,
    "new_sheet": false,
    "run_control": {
     "read_only": false
    }
   },
   "source": [
    "The predicted revenue obtained in our graph very closely matches the one found in the article as well."
   ]
  },
  {
   "cell_type": "markdown",
   "metadata": {
    "button": false,
    "deletable": true,
    "new_sheet": false,
    "run_control": {
     "read_only": false
    }
   },
   "source": [
    "## Code for Question 3a"
   ]
  },
  {
   "cell_type": "markdown",
   "metadata": {
    "button": false,
    "deletable": true,
    "new_sheet": false,
    "run_control": {
     "read_only": false
    }
   },
   "source": [
    "#### Package Imports"
   ]
  },
  {
   "cell_type": "code",
   "execution_count": 54,
   "metadata": {
    "button": false,
    "collapsed": false,
    "deletable": true,
    "new_sheet": false,
    "run_control": {
     "read_only": false
    }
   },
   "outputs": [],
   "source": [
    "import networkx as nx\n",
    "import pandas as pd\n",
    "import community\n",
    "import matplotlib.pyplot as plt\n",
    "from os import listdir\n",
    "import re\n",
    "import statsmodels.formula.api as sm"
   ]
  },
  {
   "cell_type": "markdown",
   "metadata": {
    "button": false,
    "deletable": true,
    "new_sheet": false,
    "run_control": {
     "read_only": false
    }
   },
   "source": [
    "Import household dataset and villages included in cross-sectional data"
   ]
  },
  {
   "cell_type": "code",
   "execution_count": 55,
   "metadata": {
    "button": false,
    "collapsed": true,
    "deletable": true,
    "new_sheet": false,
    "run_control": {
     "read_only": false
    }
   },
   "outputs": [],
   "source": [
    "household = pd.read_excel('/Users/Akos/Desktop/Networks HW3/household.xlsx')\n",
    "cross_sectional = pd.read_excel('/Users/Akos/Desktop/Networks HW3/cross_sectional.xlsx')"
   ]
  },
  {
   "cell_type": "markdown",
   "metadata": {
    "button": false,
    "deletable": true,
    "new_sheet": false,
    "run_control": {
     "read_only": false
    }
   },
   "source": [
    "Combine microfinance adoption data with household characteristics"
   ]
  },
  {
   "cell_type": "code",
   "execution_count": 56,
   "metadata": {
    "button": false,
    "collapsed": false,
    "deletable": true,
    "new_sheet": false,
    "run_control": {
     "read_only": false
    }
   },
   "outputs": [],
   "source": [
    "def find_csv_filenames(path_to_dir, suffix = \".csv\"):\n",
    "    filenames = listdir(path_to_dir)\n",
    "    return [filename for filename in filenames if filename.endswith(suffix)]\n",
    "\n",
    "filenames = find_csv_filenames('/Users/Akos/Desktop/Networks HW3/MF Dummy/')\n",
    "\n",
    "MF = []\n",
    "for file in filenames:\n",
    "    address = '/Users/Akos/Desktop/Networks HW3/MF Dummy/'+file\n",
    "    village = int(re.search(r'\\d+', file).group())\n",
    "    village_MF = pd.read_csv(address, sep = ',', header = None).reset_index()\n",
    "    village_MF['village'] = village\n",
    "    village_MF.columns = ['index', 'MF', 'village']\n",
    "    village_MF['adjmatrix_key'] = village_MF['index'] + 1\n",
    "    MF.append(village_MF)\n",
    "\n",
    "result = pd.concat(MF)\n",
    "\n",
    "household_merge = pd.merge(household, result, how = \"right\", on = ['adjmatrix_key', 'village'])"
   ]
  },
  {
   "cell_type": "markdown",
   "metadata": {
    "button": false,
    "collapsed": false,
    "deletable": true,
    "new_sheet": false,
    "run_control": {
     "read_only": false
    },
    "scrolled": true
   },
   "source": [
    "Calculate network centrality measures for each village"
   ]
  },
  {
   "cell_type": "code",
   "execution_count": 57,
   "metadata": {
    "button": false,
    "collapsed": false,
    "deletable": true,
    "new_sheet": false,
    "run_control": {
     "read_only": false
    }
   },
   "outputs": [],
   "source": [
    "filenames = find_csv_filenames('/Users/Akos/Desktop/Networks HW3/1. Network Data/')\n",
    "\n",
    "adj = []\n",
    "\n",
    "for file in filenames:\n",
    "    address = '/Users/Akos/Desktop/Networks HW3/1. Network Data/' + file\n",
    "    villnum = int(re.search(r'\\d+', file).group())\n",
    "    village = pd.read_csv(address, sep = ',', header = None).as_matrix()\n",
    "    adj_matrix = nx.from_numpy_matrix(village)\n",
    "    degree = adj_matrix.degree()\n",
    "    degree_pd = pd.DataFrame.from_dict(degree, orient = 'index').reset_index()\n",
    "    eigenvector = nx.eigenvector_centrality_numpy(adj_matrix)\n",
    "    eigenvector_pd = pd.DataFrame.from_dict(eigenvector, orient = 'index').reset_index()\n",
    "    betweenness = nx.betweenness_centrality(adj_matrix)\n",
    "    betweenness_pd = pd.DataFrame.from_dict(betweenness, orient = 'index').reset_index()\n",
    "    closeness = nx.closeness_centrality(adj_matrix)\n",
    "    closeness_pd = pd.DataFrame.from_dict(closeness, orient = 'index').reset_index()\n",
    "\n",
    "    centrality_merge = degree_pd.merge(eigenvector_pd,on='index').merge(betweenness_pd,on='index').merge(closeness_pd, on='index')\n",
    "    centrality_merge.columns = ['index', 'Degree', 'Eigenvector', 'Betweenness', 'Closeness']\n",
    "    centrality_merge['adjmatrix_key'] = centrality_merge['index'] + 1\n",
    "    centrality_merge['village'] = villnum\n",
    "    adj.append(centrality_merge)\n",
    "\n",
    "result1 = pd.concat(adj)"
   ]
  },
  {
   "cell_type": "markdown",
   "metadata": {
    "button": false,
    "deletable": true,
    "new_sheet": false,
    "run_control": {
     "read_only": false
    }
   },
   "source": [
    "Merge village network characteristics with household data\n",
    "\n",
    "Filter data to include only those villages in the cross-sectional results"
   ]
  },
  {
   "cell_type": "code",
   "execution_count": 58,
   "metadata": {
    "button": false,
    "collapsed": false,
    "deletable": true,
    "new_sheet": false,
    "run_control": {
     "read_only": false
    }
   },
   "outputs": [],
   "source": [
    "data = pd.merge(household_merge, result1, how = \"left\", on = ['adjmatrix_key', 'village'])\n",
    "villages_to_use = cross_sectional['village'].to_frame()\n",
    "real_data = pd.merge(data, villages_to_use, how = 'right', on = 'village')"
   ]
  },
  {
   "cell_type": "markdown",
   "metadata": {
    "button": false,
    "deletable": true,
    "new_sheet": false,
    "run_control": {
     "read_only": false
    }
   },
   "source": [
    "Aggregate individual household data at a village level"
   ]
  },
  {
   "cell_type": "code",
   "execution_count": 59,
   "metadata": {
    "button": false,
    "collapsed": false,
    "deletable": true,
    "new_sheet": false,
    "run_control": {
     "read_only": false
    }
   },
   "outputs": [],
   "source": [
    "MF = real_data[real_data['leader'] != 1].groupby('village')['MF'].mean().to_frame().reset_index()\n",
    "hhsurveyed = real_data[real_data['hhSurveyed'] == 1]\n",
    "degree_leader = hhsurveyed[hhsurveyed['leader'] == 1].groupby('village')['Degree'].mean().to_frame().reset_index()\n",
    "village_size = real_data.groupby('village').size().to_frame().reset_index()\n",
    "eigenvector_centrality = real_data[real_data['leader'] == 1].groupby('village')['Eigenvector'].mean().to_frame().reset_index()\n",
    "betweenness_centrality = real_data[real_data['leader'] == 1].groupby('village')['Betweenness'].mean().to_frame().reset_index()\n",
    "closeness_centrality = real_data[real_data['leader'] == 1].groupby('village')['Closeness'].mean().to_frame().reset_index()\n",
    "frac_leaders = (real_data[real_data['leader'] == 1].groupby('village').size() / real_data.groupby('village').size()).to_frame().reset_index()\n",
    "cross_sectional = pd.merge(MF, eigenvector_centrality, how = 'left', on = 'village') \\\n",
    "                    .merge(village_size, on = 'village') \\\n",
    "                    .merge(degree_leader, on = 'village') \\\n",
    "                    .merge(betweenness_centrality, on = 'village') \\\n",
    "                    .merge(closeness_centrality, on = 'village') \\\n",
    "                    .merge(frac_leaders, on = 'village')\n",
    "cross_sectional.columns = ['Village', 'MF', 'Eigenvector', 'Size', 'Degree', 'Betweenness', 'Closeness', 'FracLeader']\n",
    "\n",
    "#betweenness and closeness are not the same as cross_sectional, but are slightly lower (due to networkx calculating only shortest path)"
   ]
  },
  {
   "cell_type": "code",
   "execution_count": 60,
   "metadata": {
    "button": false,
    "collapsed": false,
    "deletable": true,
    "new_sheet": false,
    "run_control": {
     "read_only": false
    },
    "scrolled": true
   },
   "outputs": [
    {
     "data": {
      "text/html": [
       "<div>\n",
       "<table border=\"1\" class=\"dataframe\">\n",
       "  <thead>\n",
       "    <tr style=\"text-align: right;\">\n",
       "      <th></th>\n",
       "      <th>Village</th>\n",
       "      <th>MF</th>\n",
       "      <th>Eigenvector</th>\n",
       "      <th>Size</th>\n",
       "      <th>Degree</th>\n",
       "      <th>Betweenness</th>\n",
       "      <th>Closeness</th>\n",
       "      <th>FracLeader</th>\n",
       "    </tr>\n",
       "  </thead>\n",
       "  <tbody>\n",
       "    <tr>\n",
       "      <th>0</th>\n",
       "      <td>1</td>\n",
       "      <td>0.214286</td>\n",
       "      <td>0.088717</td>\n",
       "      <td>182</td>\n",
       "      <td>21.111111</td>\n",
       "      <td>0.018261</td>\n",
       "      <td>0.410151</td>\n",
       "      <td>0.153846</td>\n",
       "    </tr>\n",
       "    <tr>\n",
       "      <th>1</th>\n",
       "      <td>2</td>\n",
       "      <td>0.138728</td>\n",
       "      <td>0.078247</td>\n",
       "      <td>195</td>\n",
       "      <td>15.727273</td>\n",
       "      <td>0.016842</td>\n",
       "      <td>0.329004</td>\n",
       "      <td>0.112821</td>\n",
       "    </tr>\n",
       "    <tr>\n",
       "      <th>2</th>\n",
       "      <td>3</td>\n",
       "      <td>0.140078</td>\n",
       "      <td>0.064052</td>\n",
       "      <td>292</td>\n",
       "      <td>16.636364</td>\n",
       "      <td>0.008711</td>\n",
       "      <td>0.354030</td>\n",
       "      <td>0.119863</td>\n",
       "    </tr>\n",
       "    <tr>\n",
       "      <th>3</th>\n",
       "      <td>4</td>\n",
       "      <td>0.067873</td>\n",
       "      <td>0.066191</td>\n",
       "      <td>239</td>\n",
       "      <td>16.625000</td>\n",
       "      <td>0.014105</td>\n",
       "      <td>0.335063</td>\n",
       "      <td>0.075314</td>\n",
       "    </tr>\n",
       "    <tr>\n",
       "      <th>4</th>\n",
       "      <td>6</td>\n",
       "      <td>0.239130</td>\n",
       "      <td>0.121904</td>\n",
       "      <td>114</td>\n",
       "      <td>13.600000</td>\n",
       "      <td>0.019490</td>\n",
       "      <td>0.383985</td>\n",
       "      <td>0.192982</td>\n",
       "    </tr>\n",
       "  </tbody>\n",
       "</table>\n",
       "</div>"
      ],
      "text/plain": [
       "   Village        MF  Eigenvector  Size     Degree  Betweenness  Closeness  \\\n",
       "0        1  0.214286     0.088717   182  21.111111     0.018261   0.410151   \n",
       "1        2  0.138728     0.078247   195  15.727273     0.016842   0.329004   \n",
       "2        3  0.140078     0.064052   292  16.636364     0.008711   0.354030   \n",
       "3        4  0.067873     0.066191   239  16.625000     0.014105   0.335063   \n",
       "4        6  0.239130     0.121904   114  13.600000     0.019490   0.383985   \n",
       "\n",
       "   FracLeader  \n",
       "0    0.153846  \n",
       "1    0.112821  \n",
       "2    0.119863  \n",
       "3    0.075314  \n",
       "4    0.192982  "
      ]
     },
     "execution_count": 60,
     "metadata": {},
     "output_type": "execute_result"
    }
   ],
   "source": [
    "cross_sectional.head()"
   ]
  },
  {
   "cell_type": "markdown",
   "metadata": {
    "button": false,
    "deletable": true,
    "new_sheet": false,
    "run_control": {
     "read_only": false
    }
   },
   "source": [
    "Perform lienar regressions using village network data to predict rates of microfinance adoption"
   ]
  },
  {
   "cell_type": "code",
   "execution_count": 61,
   "metadata": {
    "button": false,
    "collapsed": false,
    "deletable": true,
    "new_sheet": false,
    "run_control": {
     "read_only": false
    }
   },
   "outputs": [
    {
     "name": "stdout",
     "output_type": "stream",
     "text": [
      "                            OLS Regression Results                            \n",
      "==============================================================================\n",
      "Dep. Variable:                     MF   R-squared:                       0.232\n",
      "Model:                            OLS   Adj. R-squared:                  0.213\n",
      "Method:                 Least Squares   F-statistic:                     12.40\n",
      "Date:                Tue, 20 Dec 2016   Prob (F-statistic):            0.00107\n",
      "Time:                        14:07:40   Log-Likelihood:                 51.656\n",
      "No. Observations:                  43   AIC:                            -99.31\n",
      "Df Residuals:                      41   BIC:                            -95.79\n",
      "Df Model:                           1                                         \n",
      "Covariance Type:            nonrobust                                         \n",
      "==============================================================================\n",
      "                 coef    std err          t      P>|t|      [95.0% Conf. Int.]\n",
      "------------------------------------------------------------------------------\n",
      "Intercept      0.3458      0.047      7.342      0.000         0.251     0.441\n",
      "Size          -0.0007      0.000     -3.521      0.001        -0.001    -0.000\n",
      "==============================================================================\n",
      "Omnibus:                       11.555   Durbin-Watson:                   1.549\n",
      "Prob(Omnibus):                  0.003   Jarque-Bera (JB):               11.298\n",
      "Skew:                           1.100   Prob(JB):                      0.00352\n",
      "Kurtosis:                       4.212   Cond. No.                         953.\n",
      "==============================================================================\n",
      "\n",
      "Warnings:\n",
      "[1] Standard Errors assume that the covariance matrix of the errors is correctly specified.\n"
     ]
    }
   ],
   "source": [
    "model1 = sm.ols(formula = \"MF ~ Size\", data = cross_sectional).fit()\n",
    "print(model1.summary())"
   ]
  },
  {
   "cell_type": "code",
   "execution_count": 62,
   "metadata": {
    "button": false,
    "collapsed": false,
    "deletable": true,
    "new_sheet": false,
    "run_control": {
     "read_only": false
    }
   },
   "outputs": [
    {
     "name": "stdout",
     "output_type": "stream",
     "text": [
      "                            OLS Regression Results                            \n",
      "==============================================================================\n",
      "Dep. Variable:                     MF   R-squared:                       0.025\n",
      "Model:                            OLS   Adj. R-squared:                  0.001\n",
      "Method:                 Least Squares   F-statistic:                     1.030\n",
      "Date:                Tue, 20 Dec 2016   Prob (F-statistic):              0.316\n",
      "Time:                        14:07:40   Log-Likelihood:                 46.509\n",
      "No. Observations:                  43   AIC:                            -89.02\n",
      "Df Residuals:                      41   BIC:                            -85.50\n",
      "Df Model:                           1                                         \n",
      "Covariance Type:            nonrobust                                         \n",
      "==============================================================================\n",
      "                 coef    std err          t      P>|t|      [95.0% Conf. Int.]\n",
      "------------------------------------------------------------------------------\n",
      "Intercept      0.2478      0.063      3.913      0.000         0.120     0.376\n",
      "Degree        -0.0035      0.003     -1.015      0.316        -0.010     0.003\n",
      "==============================================================================\n",
      "Omnibus:                       12.441   Durbin-Watson:                   1.391\n",
      "Prob(Omnibus):                  0.002   Jarque-Bera (JB):               12.609\n",
      "Skew:                           1.134   Prob(JB):                      0.00183\n",
      "Kurtosis:                       4.375   Cond. No.                         91.6\n",
      "==============================================================================\n",
      "\n",
      "Warnings:\n",
      "[1] Standard Errors assume that the covariance matrix of the errors is correctly specified.\n"
     ]
    }
   ],
   "source": [
    "model2 = sm.ols(formula = \"MF ~ Degree\", data = cross_sectional).fit()\n",
    "print(model2.summary())"
   ]
  },
  {
   "cell_type": "code",
   "execution_count": 63,
   "metadata": {
    "button": false,
    "collapsed": false,
    "deletable": true,
    "new_sheet": false,
    "run_control": {
     "read_only": false
    }
   },
   "outputs": [
    {
     "name": "stdout",
     "output_type": "stream",
     "text": [
      "                            OLS Regression Results                            \n",
      "==============================================================================\n",
      "Dep. Variable:                     MF   R-squared:                       0.258\n",
      "Model:                            OLS   Adj. R-squared:                  0.240\n",
      "Method:                 Least Squares   F-statistic:                     14.23\n",
      "Date:                Tue, 20 Dec 2016   Prob (F-statistic):           0.000512\n",
      "Time:                        14:07:41   Log-Likelihood:                 52.382\n",
      "No. Observations:                  43   AIC:                            -100.8\n",
      "Df Residuals:                      41   BIC:                            -97.24\n",
      "Df Model:                           1                                         \n",
      "Covariance Type:            nonrobust                                         \n",
      "===============================================================================\n",
      "                  coef    std err          t      P>|t|      [95.0% Conf. Int.]\n",
      "-------------------------------------------------------------------------------\n",
      "Intercept       0.0032      0.049      0.064      0.949        -0.097     0.103\n",
      "Eigenvector     2.4756      0.656      3.773      0.001         1.150     3.801\n",
      "==============================================================================\n",
      "Omnibus:                       10.783   Durbin-Watson:                   1.580\n",
      "Prob(Omnibus):                  0.005   Jarque-Bera (JB):               10.250\n",
      "Skew:                           1.059   Prob(JB):                      0.00595\n",
      "Kurtosis:                       4.111   Cond. No.                         59.0\n",
      "==============================================================================\n",
      "\n",
      "Warnings:\n",
      "[1] Standard Errors assume that the covariance matrix of the errors is correctly specified.\n"
     ]
    }
   ],
   "source": [
    "model3 = sm.ols(formula = \"MF ~ Eigenvector\", data = cross_sectional).fit()\n",
    "print(model3.summary())"
   ]
  },
  {
   "cell_type": "code",
   "execution_count": 64,
   "metadata": {
    "button": false,
    "collapsed": false,
    "deletable": true,
    "new_sheet": false,
    "run_control": {
     "read_only": false
    }
   },
   "outputs": [
    {
     "name": "stdout",
     "output_type": "stream",
     "text": [
      "                            OLS Regression Results                            \n",
      "==============================================================================\n",
      "Dep. Variable:                     MF   R-squared:                       0.293\n",
      "Model:                            OLS   Adj. R-squared:                  0.258\n",
      "Method:                 Least Squares   F-statistic:                     8.292\n",
      "Date:                Tue, 20 Dec 2016   Prob (F-statistic):           0.000971\n",
      "Time:                        14:07:41   Log-Likelihood:                 53.433\n",
      "No. Observations:                  43   AIC:                            -100.9\n",
      "Df Residuals:                      40   BIC:                            -95.58\n",
      "Df Model:                           2                                         \n",
      "Covariance Type:            nonrobust                                         \n",
      "===============================================================================\n",
      "                  coef    std err          t      P>|t|      [95.0% Conf. Int.]\n",
      "-------------------------------------------------------------------------------\n",
      "Intercept       0.1503      0.115      1.309      0.198        -0.082     0.382\n",
      "Eigenvector     1.6335      0.880      1.856      0.071        -0.145     3.412\n",
      "Size           -0.0004      0.000     -1.416      0.165        -0.001     0.000\n",
      "==============================================================================\n",
      "Omnibus:                       10.005   Durbin-Watson:                   1.565\n",
      "Prob(Omnibus):                  0.007   Jarque-Bera (JB):                9.257\n",
      "Skew:                           1.002   Prob(JB):                      0.00977\n",
      "Kurtosis:                       4.074   Cond. No.                     1.85e+04\n",
      "==============================================================================\n",
      "\n",
      "Warnings:\n",
      "[1] Standard Errors assume that the covariance matrix of the errors is correctly specified.\n",
      "[2] The condition number is large, 1.85e+04. This might indicate that there are\n",
      "strong multicollinearity or other numerical problems.\n"
     ]
    }
   ],
   "source": [
    "model4 = sm.ols(formula = \"MF ~ Eigenvector + Size\", data = cross_sectional).fit()\n",
    "print(model4.summary())"
   ]
  },
  {
   "cell_type": "code",
   "execution_count": 65,
   "metadata": {
    "button": false,
    "collapsed": false,
    "deletable": true,
    "new_sheet": false,
    "run_control": {
     "read_only": false
    }
   },
   "outputs": [
    {
     "name": "stdout",
     "output_type": "stream",
     "text": [
      "                            OLS Regression Results                            \n",
      "==============================================================================\n",
      "Dep. Variable:                     MF   R-squared:                       0.235\n",
      "Model:                            OLS   Adj. R-squared:                  0.196\n",
      "Method:                 Least Squares   F-statistic:                     6.128\n",
      "Date:                Tue, 20 Dec 2016   Prob (F-statistic):            0.00477\n",
      "Time:                        14:07:41   Log-Likelihood:                 51.722\n",
      "No. Observations:                  43   AIC:                            -97.44\n",
      "Df Residuals:                      40   BIC:                            -92.16\n",
      "Df Model:                           2                                         \n",
      "Covariance Type:            nonrobust                                         \n",
      "==============================================================================\n",
      "                 coef    std err          t      P>|t|      [95.0% Conf. Int.]\n",
      "------------------------------------------------------------------------------\n",
      "Intercept      0.3621      0.066      5.449      0.000         0.228     0.496\n",
      "Size          -0.0007      0.000     -3.313      0.002        -0.001    -0.000\n",
      "Degree        -0.0011      0.003     -0.352      0.727        -0.007     0.005\n",
      "==============================================================================\n",
      "Omnibus:                       11.909   Durbin-Watson:                   1.556\n",
      "Prob(Omnibus):                  0.003   Jarque-Bera (JB):               11.857\n",
      "Skew:                           1.100   Prob(JB):                      0.00266\n",
      "Kurtosis:                       4.335   Cond. No.                     1.33e+03\n",
      "==============================================================================\n",
      "\n",
      "Warnings:\n",
      "[1] Standard Errors assume that the covariance matrix of the errors is correctly specified.\n",
      "[2] The condition number is large, 1.33e+03. This might indicate that there are\n",
      "strong multicollinearity or other numerical problems.\n"
     ]
    }
   ],
   "source": [
    "model5 = sm.ols(formula = \"MF ~ Size + Degree\", data = cross_sectional).fit()\n",
    "print(model5.summary())"
   ]
  },
  {
   "cell_type": "code",
   "execution_count": 66,
   "metadata": {
    "button": false,
    "collapsed": false,
    "deletable": true,
    "new_sheet": false,
    "run_control": {
     "read_only": false
    },
    "scrolled": false
   },
   "outputs": [
    {
     "name": "stdout",
     "output_type": "stream",
     "text": [
      "                            OLS Regression Results                            \n",
      "==============================================================================\n",
      "Dep. Variable:                     MF   R-squared:                       0.296\n",
      "Model:                            OLS   Adj. R-squared:                  0.261\n",
      "Method:                 Least Squares   F-statistic:                     8.410\n",
      "Date:                Tue, 20 Dec 2016   Prob (F-statistic):           0.000894\n",
      "Time:                        14:07:41   Log-Likelihood:                 53.522\n",
      "No. Observations:                  43   AIC:                            -101.0\n",
      "Df Residuals:                      40   BIC:                            -95.76\n",
      "Df Model:                           2                                         \n",
      "Covariance Type:            nonrobust                                         \n",
      "===============================================================================\n",
      "                  coef    std err          t      P>|t|      [95.0% Conf. Int.]\n",
      "-------------------------------------------------------------------------------\n",
      "Intercept       0.0768      0.070      1.101      0.277        -0.064     0.218\n",
      "Eigenvector     2.5487      0.649      3.928      0.000         1.237     3.860\n",
      "Degree         -0.0044      0.003     -1.476      0.148        -0.010     0.002\n",
      "==============================================================================\n",
      "Omnibus:                       12.855   Durbin-Watson:                   1.594\n",
      "Prob(Omnibus):                  0.002   Jarque-Bera (JB):               13.920\n",
      "Skew:                           1.071   Prob(JB):                     0.000949\n",
      "Kurtosis:                       4.784   Cond. No.                     1.09e+03\n",
      "==============================================================================\n",
      "\n",
      "Warnings:\n",
      "[1] Standard Errors assume that the covariance matrix of the errors is correctly specified.\n",
      "[2] The condition number is large, 1.09e+03. This might indicate that there are\n",
      "strong multicollinearity or other numerical problems.\n"
     ]
    }
   ],
   "source": [
    "model6 = sm.ols(formula = \"MF ~ Eigenvector + Degree\", data = cross_sectional).fit()\n",
    "print(model6.summary())"
   ]
  },
  {
   "cell_type": "code",
   "execution_count": 67,
   "metadata": {
    "button": false,
    "collapsed": false,
    "deletable": true,
    "new_sheet": false,
    "run_control": {
     "read_only": false
    }
   },
   "outputs": [
    {
     "name": "stdout",
     "output_type": "stream",
     "text": [
      "                            OLS Regression Results                            \n",
      "==============================================================================\n",
      "Dep. Variable:                     MF   R-squared:                       0.311\n",
      "Model:                            OLS   Adj. R-squared:                  0.258\n",
      "Method:                 Least Squares   F-statistic:                     5.874\n",
      "Date:                Tue, 20 Dec 2016   Prob (F-statistic):            0.00207\n",
      "Time:                        14:07:42   Log-Likelihood:                 53.991\n",
      "No. Observations:                  43   AIC:                            -99.98\n",
      "Df Residuals:                      39   BIC:                            -92.94\n",
      "Df Model:                           3                                         \n",
      "Covariance Type:            nonrobust                                         \n",
      "===============================================================================\n",
      "                  coef    std err          t      P>|t|      [95.0% Conf. Int.]\n",
      "-------------------------------------------------------------------------------\n",
      "Intercept       0.1619      0.115      1.404      0.168        -0.071     0.395\n",
      "Eigenvector     1.9341      0.928      2.083      0.044         0.056     3.812\n",
      "Size           -0.0003      0.000     -0.927      0.359        -0.001     0.000\n",
      "Degree         -0.0032      0.003     -1.013      0.317        -0.010     0.003\n",
      "==============================================================================\n",
      "Omnibus:                       11.664   Durbin-Watson:                   1.589\n",
      "Prob(Omnibus):                  0.003   Jarque-Bera (JB):               11.939\n",
      "Skew:                           1.016   Prob(JB):                      0.00256\n",
      "Kurtosis:                       4.592   Cond. No.                     1.95e+04\n",
      "==============================================================================\n",
      "\n",
      "Warnings:\n",
      "[1] Standard Errors assume that the covariance matrix of the errors is correctly specified.\n",
      "[2] The condition number is large, 1.95e+04. This might indicate that there are\n",
      "strong multicollinearity or other numerical problems.\n"
     ]
    }
   ],
   "source": [
    "model7 = sm.ols(formula = \"MF ~ Eigenvector + Size + Degree\", data = cross_sectional).fit()\n",
    "print(model7.summary())"
   ]
  },
  {
   "cell_type": "code",
   "execution_count": 68,
   "metadata": {
    "button": false,
    "collapsed": false,
    "deletable": true,
    "new_sheet": false,
    "run_control": {
     "read_only": false
    }
   },
   "outputs": [
    {
     "name": "stdout",
     "output_type": "stream",
     "text": [
      "                            OLS Regression Results                            \n",
      "==============================================================================\n",
      "Dep. Variable:                     MF   R-squared:                       0.355\n",
      "Model:                            OLS   Adj. R-squared:                  0.268\n",
      "Method:                 Least Squares   F-statistic:                     4.072\n",
      "Date:                Tue, 20 Dec 2016   Prob (F-statistic):            0.00480\n",
      "Time:                        14:07:42   Log-Likelihood:                 55.403\n",
      "No. Observations:                  43   AIC:                            -98.81\n",
      "Df Residuals:                      37   BIC:                            -88.24\n",
      "Df Model:                           5                                         \n",
      "Covariance Type:            nonrobust                                         \n",
      "===============================================================================\n",
      "                  coef    std err          t      P>|t|      [95.0% Conf. Int.]\n",
      "-------------------------------------------------------------------------------\n",
      "Intercept       0.3233      0.209      1.543      0.131        -0.101     0.748\n",
      "Eigenvector     1.9512      1.149      1.698      0.098        -0.377     4.279\n",
      "Size           -0.0004      0.000     -1.205      0.236        -0.001     0.000\n",
      "Degree         -0.0002      0.004     -0.042      0.967        -0.008     0.008\n",
      "Betweenness     2.3983      4.523      0.530      0.599        -6.767    11.563\n",
      "Closeness      -0.6076      0.510     -1.192      0.241        -1.640     0.425\n",
      "==============================================================================\n",
      "Omnibus:                       13.663   Durbin-Watson:                   1.681\n",
      "Prob(Omnibus):                  0.001   Jarque-Bera (JB):               16.941\n",
      "Skew:                           1.016   Prob(JB):                     0.000210\n",
      "Kurtosis:                       5.308   Cond. No.                     9.63e+04\n",
      "==============================================================================\n",
      "\n",
      "Warnings:\n",
      "[1] Standard Errors assume that the covariance matrix of the errors is correctly specified.\n",
      "[2] The condition number is large, 9.63e+04. This might indicate that there are\n",
      "strong multicollinearity or other numerical problems.\n"
     ]
    }
   ],
   "source": [
    "model8 = sm.ols(formula = \"MF ~ Eigenvector + Size + Degree + Betweenness + Closeness\", data = cross_sectional).fit()\n",
    "print(model8.summary())"
   ]
  },
  {
   "cell_type": "markdown",
   "metadata": {
    "button": false,
    "deletable": true,
    "new_sheet": false,
    "run_control": {
     "read_only": false
    }
   },
   "source": [
    "## Writeup for Question 3a)"
   ]
  },
  {
   "cell_type": "markdown",
   "metadata": {
    "button": false,
    "deletable": true,
    "new_sheet": false,
    "run_control": {
     "read_only": false
    }
   },
   "source": [
    "In a study that attempts to predict diffusion rates of microfinance across a set of Indian villages, Banerjee, Chandrasekhar, Duflo, and Jackson implement a set of models that predict whether injection points and network characteristics of a village matter. The paper first creates models based on injection points, village leaders who will start the diffusion process. Through linear regressions, the authors predict which network-based metrics allow for the most effective penetration of microfinance. \n",
    "\n",
    "First, the authors test whether the percentage of microfinance adoption is influenced by the size of the village. Based on the results of the regression, village size is a very statistically significant predictor of microfinance adoption, as evidenced by the p-value of 0.001.  Since the coefficient of size is negative, we see that microfinance adoption is more effective in smaller villages.\n"
   ]
  },
  {
   "cell_type": "code",
   "execution_count": 10,
   "metadata": {
    "button": false,
    "collapsed": false,
    "deletable": true,
    "new_sheet": false,
    "run_control": {
     "read_only": false
    }
   },
   "outputs": [
    {
     "data": {
      "image/png": "[encoded data removed]",
      "text/plain": [
       "<IPython.core.display.Image object>"
      ]
     },
     "execution_count": 10,
     "metadata": {},
     "output_type": "execute_result"
    }
   ],
   "source": [
    "Image(filename=\"RegressionSize.png\")"
   ]
  },
  {
   "cell_type": "markdown",
   "metadata": {
    "button": false,
    "deletable": true,
    "new_sheet": false,
    "run_control": {
     "read_only": false
    }
   },
   "source": [
    "Then, the model predicts the rate of microfinance adoption based on the degree of the selected community leaders. In this regression, the degree is not statistically significant, as shown by the p-value of 0.316. The number of connections a leader had does not correlate with microfinance adoption. "
   ]
  },
  {
   "cell_type": "code",
   "execution_count": 11,
   "metadata": {
    "button": false,
    "collapsed": false,
    "deletable": true,
    "new_sheet": false,
    "run_control": {
     "read_only": false
    }
   },
   "outputs": [
    {
     "data": {
      "image/png": "[encoded data removed]",
      "text/plain": [
       "<IPython.core.display.Image object>"
      ]
     },
     "execution_count": 11,
     "metadata": {},
     "output_type": "execute_result"
    }
   ],
   "source": [
    "Image(filename=\"RegressionDegree.png\")"
   ]
  },
  {
   "cell_type": "markdown",
   "metadata": {
    "button": false,
    "deletable": true,
    "new_sheet": false,
    "run_control": {
     "read_only": false
    }
   },
   "source": [
    "Finally, we regress the leaders’ eigenvector centralities with the rate of microfinance adoption. Eigenvector Centrality, as illustrated by its p-value of .001, is extremely significant in predicting the eventual usage of microfinance in a village. Microfinance adoption works best with leaders who are influential in the community and are connected to other important figures."
   ]
  },
  {
   "cell_type": "code",
   "execution_count": 12,
   "metadata": {
    "button": false,
    "collapsed": false,
    "deletable": true,
    "new_sheet": false,
    "run_control": {
     "read_only": false
    }
   },
   "outputs": [
    {
     "data": {
      "image/png": "[encoded data removed]",
      "text/plain": [
       "<IPython.core.display.Image object>"
      ]
     },
     "execution_count": 12,
     "metadata": {},
     "output_type": "execute_result"
    }
   ],
   "source": [
    "Image(filename=\"RegressionEigenvector.png\")"
   ]
  },
  {
   "cell_type": "markdown",
   "metadata": {
    "button": false,
    "deletable": true,
    "new_sheet": false,
    "run_control": {
     "read_only": false
    }
   },
   "source": [
    "When predicting the rate of microfinance adoption using multiple predictors, Eigenvector centrality of leaders, village size, and degree of leaders, the regression shows that eigenvector centrality is the only statistically significant predictor of the three (p = .044). Therefore, leaders with high eigenvector centrality are most likely to be effective in diffusing information regarding microfinance throughout a village. Village size and the number of connections a leader has are insignificant. "
   ]
  },
  {
   "cell_type": "code",
   "execution_count": 13,
   "metadata": {
    "button": false,
    "collapsed": false,
    "deletable": true,
    "new_sheet": false,
    "run_control": {
     "read_only": false
    }
   },
   "outputs": [
    {
     "data": {
      "image/png": "[encoded data removed]",
      "text/plain": [
       "<IPython.core.display.Image object>"
      ]
     },
     "execution_count": 13,
     "metadata": {},
     "output_type": "execute_result"
    }
   ],
   "source": [
    "Image(filename=\"RegressionCombo.png\")"
   ]
  },
  {
   "cell_type": "markdown",
   "metadata": {
    "button": false,
    "deletable": true,
    "new_sheet": false,
    "run_control": {
     "read_only": false
    }
   },
   "source": [
    "Even when adding further predictors to attempt to explain rates of microfinance diffusion, eigenvector centrality outperforms other metrics of leader centrality such as betweeness and closeness centrality. Selecting injection points as leaders who are close to other influential members of the village serves as the most effective means of diffusing knowledge of microfinance in a village."
   ]
  },
  {
   "cell_type": "code",
   "execution_count": 14,
   "metadata": {
    "button": false,
    "collapsed": false,
    "deletable": true,
    "new_sheet": false,
    "run_control": {
     "read_only": false
    }
   },
   "outputs": [
    {
     "data": {
      "image/png": "[encoded data removed]",
      "text/plain": [
       "<IPython.core.display.Image object>"
      ]
     },
     "execution_count": 14,
     "metadata": {},
     "output_type": "execute_result"
    }
   ],
   "source": [
    "Image(filename=\"RegressionCentrality.png\")"
   ]
  },
  {
   "cell_type": "markdown",
   "metadata": {
    "button": false,
    "deletable": true,
    "new_sheet": false,
    "run_control": {
     "read_only": false
    }
   },
   "source": [
    "Overall, we see that social dynamics play a large role in the eventual adoption of microfinance. The network characteristics of leaders chosen to initiate the diffusion serve as a significant predictor of the initiative’s success. We see that the villages with the highest success rates in adoption are those with leaders possessing high eigenvector centrality. Such leaders sit close to other influential members of the communities so information spreads across the entire network. Somewhat surprisingly, the number of connections that a leader has is insignificant. Therefore, organizations wishing to spread microfinance should target community leaders who have a high degree of influence across the entire village, not necessarily leaders who have a large number of friends."
   ]
  }
 ],
 "metadata": {
  "kernelspec": {
   "display_name": "Python 3",
   "language": "python",
   "name": "python3"
  },
  "language_info": {
   "codemirror_mode": {
    "name": "ipython",
    "version": 3
   },
   "file_extension": ".py",
   "mimetype": "text/x-python",
   "name": "python",
   "nbconvert_exporter": "python",
   "pygments_lexer": "ipython3",
   "version": "3.5.0"
  }
 },
 "nbformat": 4,
 "nbformat_minor": 2
}
